{
 "cells": [
  {
   "cell_type": "markdown",
   "metadata": {},
   "source": [
    "# Shakespearean Poetry Generator"
   ]
  },
  {
   "cell_type": "code",
   "execution_count": 2,
   "metadata": {
    "deletable": true,
    "id": "BOwsuGQQY9OL",
    "tags": []
   },
   "outputs": [],
   "source": [
    "import numpy as np\n",
    "import matplotlib.pyplot as plt\n",
    "from tensorflow.keras.models import Sequential\n",
    "from tensorflow.keras.utils import to_categorical\n",
    "from tensorflow.keras.preprocessing.text import Tokenizer\n",
    "from tensorflow.keras.preprocessing.sequence import pad_sequences\n",
    "from tensorflow.keras.layers import Embedding, LSTM, Dense, Bidirectional"
   ]
  },
  {
   "cell_type": "code",
   "execution_count": null,
   "metadata": {
    "colab": {
     "base_uri": "https://localhost:8080/"
    },
    "deletable": true,
    "id": "Pfd-nYKij5yY",
    "outputId": "74862098-6630-41cb-a02b-9332b7b43e7a",
    "tags": [
     "graded"
    ]
   },
   "outputs": [],
   "source": [
    "# Define path for file with sonnets\n",
    "SONNETS_FILE = './sonnets.txt'\n",
    "\n",
    "# Read the data\n",
    "with open('./sonnets.txt') as f:\n",
    "    data = f.read()\n",
    "\n",
    "# Convert to lower case and save as a list\n",
    "corpus = data.lower().split(\"\\n\")\n",
    "\n",
    "print(f\"There are {len(corpus)} lines of sonnets\\n\")\n",
    "print(f\"The first 5 lines look like this:\\n\")\n",
    "for i in range(5):\n",
    "  print(corpus[i])"
   ]
  },
  {
   "cell_type": "code",
   "execution_count": 4,
   "metadata": {
    "deletable": true,
    "id": "AAhM_qAZk0o5",
    "tags": [
     "graded"
    ]
   },
   "outputs": [],
   "source": [
    "tokenizer = Tokenizer()\n",
    "tokenizer.fit_on_texts(corpus)\n",
    "total_words = len(tokenizer.word_index) + 1"
   ]
  },
  {
   "cell_type": "code",
   "execution_count": 7,
   "metadata": {
    "colab": {
     "base_uri": "https://localhost:8080/"
    },
    "deletable": true,
    "id": "Qmgo-vXhk4nd",
    "outputId": "f2d6e352-b172-4c48-9d04-34d2188da3c8",
    "tags": [
     "graded"
    ]
   },
   "outputs": [
    {
     "data": {
      "text/plain": [
       "[[34, 417, 877, 166, 213, 517]]"
      ]
     },
     "execution_count": 7,
     "metadata": {},
     "output_type": "execute_result"
    }
   ],
   "source": [
    "tokenizer.texts_to_sequences([corpus[0]])"
   ]
  },
  {
   "cell_type": "markdown",
   "metadata": {
    "id": "0DU7wK-eQ5dc"
   },
   "source": [
    "Notice that you received the sequence wrapped inside a list so in order to get only the desired sequence you need to explicitly get the first item in the list like this:"
   ]
  },
  {
   "cell_type": "code",
   "execution_count": 8,
   "metadata": {
    "colab": {
     "base_uri": "https://localhost:8080/"
    },
    "deletable": true,
    "id": "kpTy8WmIQ57P",
    "outputId": "c531bd32-51c0-4fdc-a503-b2273c82ffcf",
    "tags": [
     "graded"
    ]
   },
   "outputs": [
    {
     "data": {
      "text/plain": [
       "[34, 417, 877, 166, 213, 517]"
      ]
     },
     "execution_count": 8,
     "metadata": {},
     "output_type": "execute_result"
    }
   ],
   "source": [
    "tokenizer.texts_to_sequences([corpus[0]])[0]"
   ]
  },
  {
   "cell_type": "code",
   "execution_count": 9,
   "metadata": {
    "deletable": true,
    "id": "iy4baJMDl6kj",
    "tags": [
     "graded"
    ]
   },
   "outputs": [],
   "source": [
    "def n_gram_seqs(corpus, tokenizer):\n",
    "\n",
    "    input_sequences = []\n",
    "\n",
    "    for line in corpus:\n",
    "      token_list=tokenizer.texts_to_sequences([line])[0]\n",
    "      for i in range(1, len(token_list)):\n",
    "        n_gram_sequence = token_list[:i+1]\n",
    "        input_sequences.append(n_gram_sequence)\n",
    "\n",
    "    return input_sequences"
   ]
  },
  {
   "cell_type": "code",
   "execution_count": 10,
   "metadata": {
    "colab": {
     "base_uri": "https://localhost:8080/"
    },
    "deletable": true,
    "id": "DlKqW2pfM7G3",
    "outputId": "1d22a350-e19a-45ab-c10a-f898f08f7f7c",
    "tags": [
     "graded"
    ]
   },
   "outputs": [
    {
     "name": "stdout",
     "output_type": "stream",
     "text": [
      "n_gram sequences for first example look like this:\n",
      "\n"
     ]
    },
    {
     "data": {
      "text/plain": [
       "[[34, 417],\n",
       " [34, 417, 877],\n",
       " [34, 417, 877, 166],\n",
       " [34, 417, 877, 166, 213],\n",
       " [34, 417, 877, 166, 213, 517]]"
      ]
     },
     "execution_count": 10,
     "metadata": {},
     "output_type": "execute_result"
    }
   ],
   "source": [
    "first_example_sequence = n_gram_seqs([corpus[0]], tokenizer)\n",
    "\n",
    "print(\"n_gram sequences for first example look like this:\\n\")\n",
    "first_example_sequence"
   ]
  },
  {
   "cell_type": "code",
   "execution_count": null,
   "metadata": {
    "colab": {
     "base_uri": "https://localhost:8080/"
    },
    "deletable": true,
    "id": "wtPpCcBjNc4c",
    "outputId": "2aaf3cca-bb67-42b1-fd90-4bc6dbcd8176",
    "tags": [
     "graded"
    ]
   },
   "outputs": [],
   "source": [
    "# testing on larger corpus\n",
    "next_3_examples_sequence = n_gram_seqs(corpus[1:4], tokenizer)\n",
    "\n",
    "print(\"n_gram sequences for next 3 examples look like this:\\n\")\n",
    "next_3_examples_sequence"
   ]
  },
  {
   "cell_type": "code",
   "execution_count": 12,
   "metadata": {
    "colab": {
     "base_uri": "https://localhost:8080/"
    },
    "deletable": true,
    "id": "laMwiRUpmuSd",
    "outputId": "918c0915-c8e6-46d6-c917-cc59dac62efd",
    "tags": [
     "graded"
    ]
   },
   "outputs": [
    {
     "name": "stdout",
     "output_type": "stream",
     "text": [
      "n_grams of input_sequences have length: 15462\n",
      "maximum length of sequences is: 11\n"
     ]
    }
   ],
   "source": [
    "# Apply the n_gram_seqs transformation to the whole corpus\n",
    "input_sequences = n_gram_seqs(corpus, tokenizer)\n",
    "\n",
    "# Save max length\n",
    "max_sequence_len = max([len(x) for x in input_sequences])\n",
    "\n",
    "print(f\"n_grams of input_sequences have length: {len(input_sequences)}\")\n",
    "print(f\"maximum length of sequences is: {max_sequence_len}\")"
   ]
  },
  {
   "cell_type": "code",
   "execution_count": 14,
   "metadata": {
    "cellView": "code",
    "deletable": false,
    "id": "WW1-qAZaWOhC",
    "tags": [
     "graded"
    ]
   },
   "outputs": [],
   "source": [
    "def pad_seqs(input_sequences, maxlen):\n",
    "\n",
    "    padded_sequences = pad_sequences(input_sequences, maxlen=maxlen, padding='pre')\n",
    "\n",
    "    return padded_sequences"
   ]
  },
  {
   "cell_type": "code",
   "execution_count": 15,
   "metadata": {
    "colab": {
     "base_uri": "https://localhost:8080/"
    },
    "deletable": true,
    "id": "IqVQ0pb3YHLr",
    "outputId": "6ff9800a-ba37-471a-e1e2-3e25ad1e056d",
    "tags": [
     "graded"
    ]
   },
   "outputs": [
    {
     "data": {
      "text/plain": [
       "array([[  0,   0,   0,   0,  34, 417],\n",
       "       [  0,   0,   0,  34, 417, 877],\n",
       "       [  0,   0,  34, 417, 877, 166],\n",
       "       [  0,  34, 417, 877, 166, 213],\n",
       "       [ 34, 417, 877, 166, 213, 517]], dtype=int32)"
      ]
     },
     "execution_count": 15,
     "metadata": {},
     "output_type": "execute_result"
    }
   ],
   "source": [
    "# Test the function with the n_grams_seq of the first example\n",
    "first_padded_seq = pad_seqs(first_example_sequence, max([len(x) for x in first_example_sequence]))\n",
    "first_padded_seq"
   ]
  },
  {
   "cell_type": "code",
   "execution_count": 16,
   "metadata": {
    "colab": {
     "base_uri": "https://localhost:8080/"
    },
    "deletable": true,
    "id": "j56_UCOBYzZt",
    "outputId": "f788abe9-34fb-425e-a6f6-2073049d3a55",
    "tags": [
     "graded"
    ]
   },
   "outputs": [
    {
     "data": {
      "text/plain": [
       "array([[  0,   0,   0,   0,   0,   0,   8, 878],\n",
       "       [  0,   0,   0,   0,   0,   8, 878, 134],\n",
       "       [  0,   0,   0,   0,   8, 878, 134, 351],\n",
       "       [  0,   0,   0,   8, 878, 134, 351, 102],\n",
       "       [  0,   0,   8, 878, 134, 351, 102, 156],\n",
       "       [  0,   8, 878, 134, 351, 102, 156, 199],\n",
       "       [  0,   0,   0,   0,   0,   0,  16,  22],\n",
       "       [  0,   0,   0,   0,   0,  16,  22,   2],\n",
       "       [  0,   0,   0,   0,  16,  22,   2, 879],\n",
       "       [  0,   0,   0,  16,  22,   2, 879,  61],\n",
       "       [  0,   0,  16,  22,   2, 879,  61,  30],\n",
       "       [  0,  16,  22,   2, 879,  61,  30,  48],\n",
       "       [ 16,  22,   2, 879,  61,  30,  48, 634],\n",
       "       [  0,   0,   0,   0,   0,   0,  25, 311],\n",
       "       [  0,   0,   0,   0,   0,  25, 311, 635],\n",
       "       [  0,   0,   0,   0,  25, 311, 635, 102],\n",
       "       [  0,   0,   0,  25, 311, 635, 102, 200],\n",
       "       [  0,   0,  25, 311, 635, 102, 200,  25],\n",
       "       [  0,  25, 311, 635, 102, 200,  25, 278]], dtype=int32)"
      ]
     },
     "execution_count": 16,
     "metadata": {},
     "output_type": "execute_result"
    }
   ],
   "source": [
    "# Test the function with the n_grams_seq of the next 3 examples\n",
    "next_3_padded_seq = pad_seqs(next_3_examples_sequence, max([len(s) for s in next_3_examples_sequence]))\n",
    "next_3_padded_seq"
   ]
  },
  {
   "cell_type": "code",
   "execution_count": 17,
   "metadata": {
    "colab": {
     "base_uri": "https://localhost:8080/"
    },
    "deletable": true,
    "id": "rgK-Q_micEYA",
    "outputId": "14cc227c-bcb6-4d26-d2a9-16e0f6c0eaca",
    "tags": [
     "graded"
    ]
   },
   "outputs": [
    {
     "name": "stdout",
     "output_type": "stream",
     "text": [
      "padded corpus has shape: (15462, 11)\n"
     ]
    }
   ],
   "source": [
    "# Pad the whole corpus\n",
    "input_sequences = pad_seqs(input_sequences, max_sequence_len)\n",
    "\n",
    "print(f\"padded corpus has shape: {input_sequences.shape}\")"
   ]
  },
  {
   "cell_type": "code",
   "execution_count": 25,
   "metadata": {
    "cellView": "code",
    "deletable": false,
    "id": "9WGGbYdnZdmJ",
    "tags": [
     "graded"
    ]
   },
   "outputs": [],
   "source": [
    "def features_and_labels(input_sequences, total_words):\n",
    "\n",
    "    features = input_sequences[:,:-1]\n",
    "    labels = input_sequences[:,-1]\n",
    "    one_hot_labels = to_categorical(labels, num_classes=total_words)\n",
    "\n",
    "    return features, one_hot_labels"
   ]
  },
  {
   "cell_type": "code",
   "execution_count": 26,
   "metadata": {
    "colab": {
     "base_uri": "https://localhost:8080/"
    },
    "deletable": true,
    "id": "23DolaBRaIAZ",
    "outputId": "b74daa5b-56c5-4dab-c4d2-2d9e43b63fd1",
    "tags": [
     "graded"
    ]
   },
   "outputs": [
    {
     "name": "stdout",
     "output_type": "stream",
     "text": [
      "labels have shape: (5, 3211)\n",
      "\n",
      "features look like this:\n",
      "\n"
     ]
    },
    {
     "data": {
      "text/plain": [
       "array([[  0,   0,   0,   0,  34],\n",
       "       [  0,   0,   0,  34, 417],\n",
       "       [  0,   0,  34, 417, 877],\n",
       "       [  0,  34, 417, 877, 166],\n",
       "       [ 34, 417, 877, 166, 213]], dtype=int32)"
      ]
     },
     "execution_count": 26,
     "metadata": {},
     "output_type": "execute_result"
    }
   ],
   "source": [
    "# Test the function with the padded n_grams_seq of the first example\n",
    "first_features, first_labels = features_and_labels(first_padded_seq, total_words)\n",
    "\n",
    "print(f\"labels have shape: {first_labels.shape}\")\n",
    "print(\"\\nfeatures look like this:\\n\")\n",
    "first_features"
   ]
  },
  {
   "cell_type": "code",
   "execution_count": 27,
   "metadata": {
    "colab": {
     "base_uri": "https://localhost:8080/"
    },
    "deletable": true,
    "id": "GRTuLEt3bRKa",
    "outputId": "485fd320-92db-411f-928d-e403299a3eb3",
    "tags": [
     "graded"
    ]
   },
   "outputs": [
    {
     "name": "stdout",
     "output_type": "stream",
     "text": [
      "features have shape: (15462, 10)\n",
      "labels have shape: (15462, 3211)\n"
     ]
    }
   ],
   "source": [
    "# Split the whole corpus\n",
    "features, labels = features_and_labels(input_sequences, total_words)\n",
    "\n",
    "print(f\"features have shape: {features.shape}\")\n",
    "print(f\"labels have shape: {labels.shape}\")"
   ]
  },
  {
   "cell_type": "code",
   "execution_count": 31,
   "metadata": {
    "cellView": "code",
    "deletable": false,
    "id": "XrE6kpJFfvRY",
    "tags": [
     "graded"
    ]
   },
   "outputs": [],
   "source": [
    "def create_model(total_words, max_sequence_len):\n",
    "\n",
    "    model = Sequential()\n",
    "    model = Sequential([\n",
    "          Embedding(total_words, 100, input_length=max_sequence_len-1),\n",
    "          Bidirectional(LSTM(150)),\n",
    "          Dense(total_words, activation='softmax')\n",
    "    ])\n",
    "\n",
    "    # Compile the model\n",
    "    model.compile(loss='categorical_crossentropy',\n",
    "                  optimizer='adam',\n",
    "                  metrics=['accuracy'])\n",
    "\n",
    "    return model"
   ]
  },
  {
   "cell_type": "code",
   "execution_count": 32,
   "metadata": {
    "colab": {
     "base_uri": "https://localhost:8080/"
    },
    "id": "0IpX_Gu_gISk",
    "outputId": "4341322d-a114-4a3f-e4a8-9056a5ad95fc",
    "tags": []
   },
   "outputs": [
    {
     "name": "stdout",
     "output_type": "stream",
     "text": [
      "Epoch 1/50\n",
      "484/484 [==============================] - 25s 32ms/step - loss: 6.8743 - accuracy: 0.0232\n",
      "Epoch 2/50\n",
      "484/484 [==============================] - 6s 12ms/step - loss: 6.4172 - accuracy: 0.0319\n",
      "Epoch 3/50\n",
      "484/484 [==============================] - 6s 11ms/step - loss: 6.1780 - accuracy: 0.0410\n",
      "Epoch 4/50\n",
      "484/484 [==============================] - 6s 11ms/step - loss: 5.9084 - accuracy: 0.0532\n",
      "Epoch 5/50\n",
      "484/484 [==============================] - 6s 12ms/step - loss: 5.6027 - accuracy: 0.0631\n",
      "Epoch 6/50\n",
      "484/484 [==============================] - 5s 10ms/step - loss: 5.2479 - accuracy: 0.0775\n",
      "Epoch 7/50\n",
      "484/484 [==============================] - 5s 10ms/step - loss: 4.8661 - accuracy: 0.0980\n",
      "Epoch 8/50\n",
      "484/484 [==============================] - 5s 11ms/step - loss: 4.4579 - accuracy: 0.1278\n",
      "Epoch 9/50\n",
      "484/484 [==============================] - 5s 10ms/step - loss: 4.0517 - accuracy: 0.1769\n",
      "Epoch 10/50\n",
      "484/484 [==============================] - 5s 11ms/step - loss: 3.6644 - accuracy: 0.2401\n",
      "Epoch 11/50\n",
      "484/484 [==============================] - 5s 10ms/step - loss: 3.2972 - accuracy: 0.3106\n",
      "Epoch 12/50\n",
      "484/484 [==============================] - 5s 10ms/step - loss: 2.9731 - accuracy: 0.3710\n",
      "Epoch 13/50\n",
      "484/484 [==============================] - 5s 11ms/step - loss: 2.6802 - accuracy: 0.4313\n",
      "Epoch 14/50\n",
      "484/484 [==============================] - 5s 10ms/step - loss: 2.4233 - accuracy: 0.4847\n",
      "Epoch 15/50\n",
      "484/484 [==============================] - 5s 11ms/step - loss: 2.1904 - accuracy: 0.5358\n",
      "Epoch 16/50\n",
      "484/484 [==============================] - 4s 9ms/step - loss: 1.9870 - accuracy: 0.5827\n",
      "Epoch 17/50\n",
      "484/484 [==============================] - 5s 10ms/step - loss: 1.8099 - accuracy: 0.6178\n",
      "Epoch 18/50\n",
      "484/484 [==============================] - 5s 11ms/step - loss: 1.6438 - accuracy: 0.6550\n",
      "Epoch 19/50\n",
      "484/484 [==============================] - 5s 10ms/step - loss: 1.4959 - accuracy: 0.6879\n",
      "Epoch 20/50\n",
      "484/484 [==============================] - 5s 10ms/step - loss: 1.3772 - accuracy: 0.7184\n",
      "Epoch 21/50\n",
      "484/484 [==============================] - 5s 10ms/step - loss: 1.2618 - accuracy: 0.7404\n",
      "Epoch 22/50\n",
      "484/484 [==============================] - 4s 9ms/step - loss: 1.1594 - accuracy: 0.7637\n",
      "Epoch 23/50\n",
      "484/484 [==============================] - 5s 11ms/step - loss: 1.0767 - accuracy: 0.7784\n",
      "Epoch 24/50\n",
      "484/484 [==============================] - 4s 9ms/step - loss: 0.9983 - accuracy: 0.7939\n",
      "Epoch 25/50\n",
      "484/484 [==============================] - 5s 9ms/step - loss: 0.9316 - accuracy: 0.8052\n",
      "Epoch 26/50\n",
      "484/484 [==============================] - 5s 10ms/step - loss: 0.8838 - accuracy: 0.8159\n",
      "Epoch 27/50\n",
      "484/484 [==============================] - 5s 10ms/step - loss: 0.8366 - accuracy: 0.8231\n",
      "Epoch 28/50\n",
      "484/484 [==============================] - 5s 11ms/step - loss: 0.7963 - accuracy: 0.8273\n",
      "Epoch 29/50\n",
      "484/484 [==============================] - 5s 9ms/step - loss: 0.7598 - accuracy: 0.8321\n",
      "Epoch 30/50\n",
      "484/484 [==============================] - 5s 10ms/step - loss: 0.7308 - accuracy: 0.8359\n",
      "Epoch 31/50\n",
      "484/484 [==============================] - 5s 11ms/step - loss: 0.7048 - accuracy: 0.8415\n",
      "Epoch 32/50\n",
      "484/484 [==============================] - 5s 10ms/step - loss: 0.6821 - accuracy: 0.8426\n",
      "Epoch 33/50\n",
      "484/484 [==============================] - 5s 11ms/step - loss: 0.6722 - accuracy: 0.8417\n",
      "Epoch 34/50\n",
      "484/484 [==============================] - 5s 10ms/step - loss: 0.6568 - accuracy: 0.8459\n",
      "Epoch 35/50\n",
      "484/484 [==============================] - 5s 9ms/step - loss: 0.6469 - accuracy: 0.8445\n",
      "Epoch 36/50\n",
      "484/484 [==============================] - 5s 11ms/step - loss: 0.6272 - accuracy: 0.8461\n",
      "Epoch 37/50\n",
      "484/484 [==============================] - 5s 10ms/step - loss: 0.6232 - accuracy: 0.8465\n",
      "Epoch 38/50\n",
      "484/484 [==============================] - 5s 11ms/step - loss: 0.6131 - accuracy: 0.8481\n",
      "Epoch 39/50\n",
      "484/484 [==============================] - 5s 10ms/step - loss: 0.6049 - accuracy: 0.8494\n",
      "Epoch 40/50\n",
      "484/484 [==============================] - 4s 9ms/step - loss: 0.6032 - accuracy: 0.8490\n",
      "Epoch 41/50\n",
      "484/484 [==============================] - 6s 11ms/step - loss: 0.5942 - accuracy: 0.8495\n",
      "Epoch 42/50\n",
      "484/484 [==============================] - 5s 10ms/step - loss: 0.5938 - accuracy: 0.8488\n",
      "Epoch 43/50\n",
      "484/484 [==============================] - 5s 9ms/step - loss: 0.5867 - accuracy: 0.8488\n",
      "Epoch 44/50\n",
      "484/484 [==============================] - 5s 11ms/step - loss: 0.5835 - accuracy: 0.8500\n",
      "Epoch 45/50\n",
      "484/484 [==============================] - 5s 10ms/step - loss: 0.5773 - accuracy: 0.8476\n",
      "Epoch 46/50\n",
      "484/484 [==============================] - 5s 11ms/step - loss: 0.5719 - accuracy: 0.8503\n",
      "Epoch 47/50\n",
      "484/484 [==============================] - 5s 9ms/step - loss: 0.5679 - accuracy: 0.8505\n",
      "Epoch 48/50\n",
      "484/484 [==============================] - 4s 9ms/step - loss: 0.5729 - accuracy: 0.8487\n",
      "Epoch 49/50\n",
      "484/484 [==============================] - 5s 11ms/step - loss: 0.5658 - accuracy: 0.8498\n",
      "Epoch 50/50\n",
      "484/484 [==============================] - 4s 9ms/step - loss: 0.5621 - accuracy: 0.8486\n"
     ]
    }
   ],
   "source": [
    "# Get the untrained model\n",
    "model = create_model(total_words, max_sequence_len)\n",
    "\n",
    "# Train the model\n",
    "history = model.fit(features, labels, epochs=50, verbose=1)"
   ]
  },
  {
   "cell_type": "code",
   "execution_count": 33,
   "metadata": {
    "colab": {
     "base_uri": "https://localhost:8080/",
     "height": 887
    },
    "id": "1fXTEO3GJ282",
    "outputId": "f725e01c-1e96-4f5d-d30c-8472d48f4a55",
    "tags": []
   },
   "outputs": [
    {
     "data": {
      "image/png": "[encoded data removed]",
      "text/plain": [
       "<Figure size 640x480 with 1 Axes>"
      ]
     },
     "metadata": {},
     "output_type": "display_data"
    },
    {
     "data": {
      "image/png": "[encoded data removed]",
      "text/plain": [
       "<Figure size 640x480 with 1 Axes>"
      ]
     },
     "metadata": {},
     "output_type": "display_data"
    }
   ],
   "source": [
    "# Training curves of the model\n",
    "\n",
    "acc = history.history['accuracy']\n",
    "loss = history.history['loss']\n",
    "\n",
    "epochs = range(len(acc))\n",
    "\n",
    "plt.plot(epochs, acc, 'b', label='Training accuracy')\n",
    "plt.title('Training accuracy')\n",
    "\n",
    "plt.figure()\n",
    "\n",
    "plt.plot(epochs, loss, 'b', label='Training Loss')\n",
    "plt.title('Training loss')\n",
    "plt.legend()\n",
    "\n",
    "plt.show()"
   ]
  },
  {
   "cell_type": "code",
   "execution_count": null,
   "metadata": {
    "colab": {
     "base_uri": "https://localhost:8080/"
    },
    "id": "6Vc6PHgxa6Hm",
    "outputId": "90223c59-45cc-4ab5-8229-9d9a2291fae7",
    "tags": []
   },
   "outputs": [],
   "source": [
    "seed_text = \"Today was a beautiful day\"\n",
    "next_words = 100\n",
    "\n",
    "for _ in range(next_words):\n",
    "    # Convert the text into sequences\n",
    "    token_list = tokenizer.texts_to_sequences([seed_text])[0]\n",
    "    # Pad the sequences\n",
    "    token_list = pad_sequences([token_list], maxlen=max_sequence_len-1, padding='pre')\n",
    "    # Get the probabilities of predicting a word\n",
    "    predicted = model.predict(token_list, verbose=0)\n",
    "    # Choose the next word based on the maximum probability\n",
    "    predicted = np.argmax(predicted, axis=-1).item()\n",
    "    # Get the actual word from the word index\n",
    "    output_word = tokenizer.index_word[predicted]\n",
    "    # Append to the current text\n",
    "    seed_text += \" \" + output_word\n",
    "\n",
    "print(seed_text)"
   ]
  }
 ],
 "metadata": {
  "accelerator": "GPU",
  "colab": {
   "provenance": []
  },
  "dlai_version": "1.2.0",
  "jupytext": {
   "main_language": "python"
  },
  "kernelspec": {
   "display_name": "Python 3 (ipykernel)",
   "language": "python",
   "name": "python3"
  },
  "language_info": {
   "codemirror_mode": {
    "name": "ipython",
    "version": 3
   },
   "file_extension": ".py",
   "mimetype": "text/x-python",
   "name": "python",
   "nbconvert_exporter": "python",
   "pygments_lexer": "ipython3",
   "version": "3.10.9"
  }
 },
 "nbformat": 4,
 "nbformat_minor": 4
}
